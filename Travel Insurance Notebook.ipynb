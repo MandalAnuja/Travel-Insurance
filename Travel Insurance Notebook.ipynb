{
 "cells": [
  {
   "cell_type": "markdown",
   "id": "f56bf668",
   "metadata": {},
   "source": [
    "# Travel Insurance Prediction"
   ]
  },
  {
   "cell_type": "markdown",
   "id": "8a3cda46",
   "metadata": {},
   "source": [
    "### Problem Statement-Travel Insurance companies to know whether the insured will claim the policy in the future or not,which can save thousands of dollars."
   ]
  },
  {
   "cell_type": "code",
   "execution_count": 80,
   "id": "2b5d550a",
   "metadata": {},
   "outputs": [],
   "source": [
    "import matplotlib.pyplot as plt    \n",
    "import numpy as np\n",
    "import pandas as pd\n",
    "import seaborn as sns\n",
    "from sklearn.preprocessing import LabelEncoder\n",
    "le=LabelEncoder()"
   ]
  },
  {
   "cell_type": "markdown",
   "id": "4e655386",
   "metadata": {},
   "source": [
    "#### Reading the csv file with the help of pandas library "
   ]
  },
  {
   "cell_type": "code",
   "execution_count": 138,
   "id": "20527d27",
   "metadata": {
    "scrolled": true
   },
   "outputs": [
    {
     "data": {
      "text/html": [
       "<div>\n",
       "<style scoped>\n",
       "    .dataframe tbody tr th:only-of-type {\n",
       "        vertical-align: middle;\n",
       "    }\n",
       "\n",
       "    .dataframe tbody tr th {\n",
       "        vertical-align: top;\n",
       "    }\n",
       "\n",
       "    .dataframe thead th {\n",
       "        text-align: right;\n",
       "    }\n",
       "</style>\n",
       "<table border=\"1\" class=\"dataframe\">\n",
       "  <thead>\n",
       "    <tr style=\"text-align: right;\">\n",
       "      <th></th>\n",
       "      <th>Agency</th>\n",
       "      <th>Agency_Type</th>\n",
       "      <th>Distribution_Channel</th>\n",
       "      <th>Product_Name</th>\n",
       "      <th>Claim</th>\n",
       "      <th>Duration</th>\n",
       "      <th>Destination</th>\n",
       "      <th>Net_Sales</th>\n",
       "      <th>Commision_1</th>\n",
       "      <th>Gender</th>\n",
       "      <th>Age</th>\n",
       "    </tr>\n",
       "  </thead>\n",
       "  <tbody>\n",
       "    <tr>\n",
       "      <th>0</th>\n",
       "      <td>CBH</td>\n",
       "      <td>Travel Agency</td>\n",
       "      <td>Offline</td>\n",
       "      <td>Comprehensive Plan</td>\n",
       "      <td>No</td>\n",
       "      <td>186</td>\n",
       "      <td>MALAYSIA</td>\n",
       "      <td>-29.0</td>\n",
       "      <td>9.57</td>\n",
       "      <td>F</td>\n",
       "      <td>81</td>\n",
       "    </tr>\n",
       "    <tr>\n",
       "      <th>1</th>\n",
       "      <td>CBH</td>\n",
       "      <td>Travel Agency</td>\n",
       "      <td>Offline</td>\n",
       "      <td>Comprehensive Plan</td>\n",
       "      <td>No</td>\n",
       "      <td>186</td>\n",
       "      <td>MALAYSIA</td>\n",
       "      <td>-29.0</td>\n",
       "      <td>9.57</td>\n",
       "      <td>F</td>\n",
       "      <td>71</td>\n",
       "    </tr>\n",
       "    <tr>\n",
       "      <th>2</th>\n",
       "      <td>CWT</td>\n",
       "      <td>Travel Agency</td>\n",
       "      <td>Online</td>\n",
       "      <td>Rental Vehicle Excess Insurance</td>\n",
       "      <td>No</td>\n",
       "      <td>65</td>\n",
       "      <td>AUSTRALIA</td>\n",
       "      <td>-49.5</td>\n",
       "      <td>29.70</td>\n",
       "      <td>NaN</td>\n",
       "      <td>32</td>\n",
       "    </tr>\n",
       "    <tr>\n",
       "      <th>3</th>\n",
       "      <td>CWT</td>\n",
       "      <td>Travel Agency</td>\n",
       "      <td>Online</td>\n",
       "      <td>Rental Vehicle Excess Insurance</td>\n",
       "      <td>No</td>\n",
       "      <td>60</td>\n",
       "      <td>AUSTRALIA</td>\n",
       "      <td>-39.6</td>\n",
       "      <td>23.76</td>\n",
       "      <td>NaN</td>\n",
       "      <td>32</td>\n",
       "    </tr>\n",
       "    <tr>\n",
       "      <th>4</th>\n",
       "      <td>CWT</td>\n",
       "      <td>Travel Agency</td>\n",
       "      <td>Online</td>\n",
       "      <td>Rental Vehicle Excess Insurance</td>\n",
       "      <td>No</td>\n",
       "      <td>79</td>\n",
       "      <td>ITALY</td>\n",
       "      <td>-19.8</td>\n",
       "      <td>11.88</td>\n",
       "      <td>NaN</td>\n",
       "      <td>41</td>\n",
       "    </tr>\n",
       "    <tr>\n",
       "      <th>...</th>\n",
       "      <td>...</td>\n",
       "      <td>...</td>\n",
       "      <td>...</td>\n",
       "      <td>...</td>\n",
       "      <td>...</td>\n",
       "      <td>...</td>\n",
       "      <td>...</td>\n",
       "      <td>...</td>\n",
       "      <td>...</td>\n",
       "      <td>...</td>\n",
       "      <td>...</td>\n",
       "    </tr>\n",
       "    <tr>\n",
       "      <th>63321</th>\n",
       "      <td>JZI</td>\n",
       "      <td>Airlines</td>\n",
       "      <td>Online</td>\n",
       "      <td>Basic Plan</td>\n",
       "      <td>No</td>\n",
       "      <td>111</td>\n",
       "      <td>JAPAN</td>\n",
       "      <td>35.0</td>\n",
       "      <td>12.25</td>\n",
       "      <td>M</td>\n",
       "      <td>31</td>\n",
       "    </tr>\n",
       "    <tr>\n",
       "      <th>63322</th>\n",
       "      <td>JZI</td>\n",
       "      <td>Airlines</td>\n",
       "      <td>Online</td>\n",
       "      <td>Basic Plan</td>\n",
       "      <td>No</td>\n",
       "      <td>58</td>\n",
       "      <td>CHINA</td>\n",
       "      <td>40.0</td>\n",
       "      <td>14.00</td>\n",
       "      <td>F</td>\n",
       "      <td>40</td>\n",
       "    </tr>\n",
       "    <tr>\n",
       "      <th>63323</th>\n",
       "      <td>JZI</td>\n",
       "      <td>Airlines</td>\n",
       "      <td>Online</td>\n",
       "      <td>Basic Plan</td>\n",
       "      <td>No</td>\n",
       "      <td>2</td>\n",
       "      <td>MALAYSIA</td>\n",
       "      <td>18.0</td>\n",
       "      <td>6.30</td>\n",
       "      <td>M</td>\n",
       "      <td>57</td>\n",
       "    </tr>\n",
       "    <tr>\n",
       "      <th>63324</th>\n",
       "      <td>JZI</td>\n",
       "      <td>Airlines</td>\n",
       "      <td>Online</td>\n",
       "      <td>Basic Plan</td>\n",
       "      <td>No</td>\n",
       "      <td>3</td>\n",
       "      <td>VIET NAM</td>\n",
       "      <td>18.0</td>\n",
       "      <td>6.30</td>\n",
       "      <td>M</td>\n",
       "      <td>63</td>\n",
       "    </tr>\n",
       "    <tr>\n",
       "      <th>63325</th>\n",
       "      <td>JZI</td>\n",
       "      <td>Airlines</td>\n",
       "      <td>Online</td>\n",
       "      <td>Basic Plan</td>\n",
       "      <td>No</td>\n",
       "      <td>22</td>\n",
       "      <td>HONG KONG</td>\n",
       "      <td>26.0</td>\n",
       "      <td>9.10</td>\n",
       "      <td>F</td>\n",
       "      <td>35</td>\n",
       "    </tr>\n",
       "  </tbody>\n",
       "</table>\n",
       "<p>63326 rows × 11 columns</p>\n",
       "</div>"
      ],
      "text/plain": [
       "      Agency    Agency_Type Distribution_Channel  \\\n",
       "0        CBH  Travel Agency              Offline   \n",
       "1        CBH  Travel Agency              Offline   \n",
       "2        CWT  Travel Agency               Online   \n",
       "3        CWT  Travel Agency               Online   \n",
       "4        CWT  Travel Agency               Online   \n",
       "...      ...            ...                  ...   \n",
       "63321    JZI       Airlines               Online   \n",
       "63322    JZI       Airlines               Online   \n",
       "63323    JZI       Airlines               Online   \n",
       "63324    JZI       Airlines               Online   \n",
       "63325    JZI       Airlines               Online   \n",
       "\n",
       "                          Product_Name Claim  Duration Destination  Net_Sales  \\\n",
       "0                   Comprehensive Plan    No       186    MALAYSIA      -29.0   \n",
       "1                   Comprehensive Plan    No       186    MALAYSIA      -29.0   \n",
       "2      Rental Vehicle Excess Insurance    No        65   AUSTRALIA      -49.5   \n",
       "3      Rental Vehicle Excess Insurance    No        60   AUSTRALIA      -39.6   \n",
       "4      Rental Vehicle Excess Insurance    No        79       ITALY      -19.8   \n",
       "...                                ...   ...       ...         ...        ...   \n",
       "63321                       Basic Plan    No       111       JAPAN       35.0   \n",
       "63322                       Basic Plan    No        58       CHINA       40.0   \n",
       "63323                       Basic Plan    No         2    MALAYSIA       18.0   \n",
       "63324                       Basic Plan    No         3    VIET NAM       18.0   \n",
       "63325                       Basic Plan    No        22   HONG KONG       26.0   \n",
       "\n",
       "       Commision_1 Gender  Age  \n",
       "0             9.57      F   81  \n",
       "1             9.57      F   71  \n",
       "2            29.70    NaN   32  \n",
       "3            23.76    NaN   32  \n",
       "4            11.88    NaN   41  \n",
       "...            ...    ...  ...  \n",
       "63321        12.25      M   31  \n",
       "63322        14.00      F   40  \n",
       "63323         6.30      M   57  \n",
       "63324         6.30      M   63  \n",
       "63325         9.10      F   35  \n",
       "\n",
       "[63326 rows x 11 columns]"
      ]
     },
     "execution_count": 138,
     "metadata": {},
     "output_type": "execute_result"
    }
   ],
   "source": [
    "df =  pd.read_csv(r\"C:\\Users\\mudda\\Downloads\\archive (2)\\Travel_Insurance.csv\")\n",
    "df"
   ]
  },
  {
   "cell_type": "markdown",
   "id": "4c1439d9",
   "metadata": {},
   "source": [
    "# Data Preparation\n",
    "\n",
    "\n",
    "> - Agency\n",
    "> - Agency_Type\n",
    "> - Destination\n",
    "> - Duration\n",
    "> - Age\n",
    "> - Claim\n",
    "> - Gender"
   ]
  },
  {
   "cell_type": "markdown",
   "id": "95984458",
   "metadata": {},
   "source": [
    "##  Checking shape of dataset total rows and columns "
   ]
  },
  {
   "cell_type": "code",
   "execution_count": 82,
   "id": "b3dd9619",
   "metadata": {},
   "outputs": [
    {
     "data": {
      "text/plain": [
       "(63326, 11)"
      ]
     },
     "execution_count": 82,
     "metadata": {},
     "output_type": "execute_result"
    }
   ],
   "source": [
    "df.shape       "
   ]
  },
  {
   "cell_type": "code",
   "execution_count": 83,
   "id": "f7a25b03",
   "metadata": {},
   "outputs": [
    {
     "data": {
      "text/plain": [
       "Index(['Agency', 'Agency_Type', 'Distribution_Channel', 'Product_Name',\n",
       "       'Claim', 'Duration', 'Destination', 'Net_Sales', 'Commision_1',\n",
       "       'Gender', 'Age'],\n",
       "      dtype='object')"
      ]
     },
     "execution_count": 83,
     "metadata": {},
     "output_type": "execute_result"
    }
   ],
   "source": [
    "df.columns"
   ]
  },
  {
   "cell_type": "code",
   "execution_count": 84,
   "id": "60410f68",
   "metadata": {},
   "outputs": [
    {
     "name": "stdout",
     "output_type": "stream",
     "text": [
      "<class 'pandas.core.frame.DataFrame'>\n",
      "RangeIndex: 63326 entries, 0 to 63325\n",
      "Data columns (total 11 columns):\n",
      " #   Column                Non-Null Count  Dtype  \n",
      "---  ------                --------------  -----  \n",
      " 0   Agency                63326 non-null  object \n",
      " 1   Agency_Type           63326 non-null  object \n",
      " 2   Distribution_Channel  63326 non-null  object \n",
      " 3   Product_Name          63326 non-null  object \n",
      " 4   Claim                 63326 non-null  object \n",
      " 5   Duration              63326 non-null  int64  \n",
      " 6   Destination           63326 non-null  object \n",
      " 7   Net_Sales             63326 non-null  float64\n",
      " 8   Commision_1           63326 non-null  float64\n",
      " 9   Gender                18219 non-null  object \n",
      " 10  Age                   63326 non-null  int64  \n",
      "dtypes: float64(2), int64(2), object(7)\n",
      "memory usage: 5.3+ MB\n"
     ]
    }
   ],
   "source": [
    "df.info()        "
   ]
  },
  {
   "cell_type": "code",
   "execution_count": 85,
   "id": "ab6cabc1",
   "metadata": {},
   "outputs": [
    {
     "data": {
      "text/html": [
       "<div>\n",
       "<style scoped>\n",
       "    .dataframe tbody tr th:only-of-type {\n",
       "        vertical-align: middle;\n",
       "    }\n",
       "\n",
       "    .dataframe tbody tr th {\n",
       "        vertical-align: top;\n",
       "    }\n",
       "\n",
       "    .dataframe thead th {\n",
       "        text-align: right;\n",
       "    }\n",
       "</style>\n",
       "<table border=\"1\" class=\"dataframe\">\n",
       "  <thead>\n",
       "    <tr style=\"text-align: right;\">\n",
       "      <th></th>\n",
       "      <th>Agency</th>\n",
       "      <th>Agency_Type</th>\n",
       "      <th>Distribution_Channel</th>\n",
       "      <th>Product_Name</th>\n",
       "      <th>Claim</th>\n",
       "      <th>Duration</th>\n",
       "      <th>Destination</th>\n",
       "      <th>Net_Sales</th>\n",
       "      <th>Commision_1</th>\n",
       "      <th>Gender</th>\n",
       "      <th>Age</th>\n",
       "    </tr>\n",
       "  </thead>\n",
       "  <tbody>\n",
       "    <tr>\n",
       "      <th>0</th>\n",
       "      <td>CBH</td>\n",
       "      <td>Travel Agency</td>\n",
       "      <td>Offline</td>\n",
       "      <td>Comprehensive Plan</td>\n",
       "      <td>No</td>\n",
       "      <td>186</td>\n",
       "      <td>MALAYSIA</td>\n",
       "      <td>-29.0</td>\n",
       "      <td>9.57</td>\n",
       "      <td>F</td>\n",
       "      <td>81</td>\n",
       "    </tr>\n",
       "    <tr>\n",
       "      <th>1</th>\n",
       "      <td>CBH</td>\n",
       "      <td>Travel Agency</td>\n",
       "      <td>Offline</td>\n",
       "      <td>Comprehensive Plan</td>\n",
       "      <td>No</td>\n",
       "      <td>186</td>\n",
       "      <td>MALAYSIA</td>\n",
       "      <td>-29.0</td>\n",
       "      <td>9.57</td>\n",
       "      <td>F</td>\n",
       "      <td>71</td>\n",
       "    </tr>\n",
       "    <tr>\n",
       "      <th>2</th>\n",
       "      <td>CWT</td>\n",
       "      <td>Travel Agency</td>\n",
       "      <td>Online</td>\n",
       "      <td>Rental Vehicle Excess Insurance</td>\n",
       "      <td>No</td>\n",
       "      <td>65</td>\n",
       "      <td>AUSTRALIA</td>\n",
       "      <td>-49.5</td>\n",
       "      <td>29.70</td>\n",
       "      <td>NaN</td>\n",
       "      <td>32</td>\n",
       "    </tr>\n",
       "    <tr>\n",
       "      <th>3</th>\n",
       "      <td>CWT</td>\n",
       "      <td>Travel Agency</td>\n",
       "      <td>Online</td>\n",
       "      <td>Rental Vehicle Excess Insurance</td>\n",
       "      <td>No</td>\n",
       "      <td>60</td>\n",
       "      <td>AUSTRALIA</td>\n",
       "      <td>-39.6</td>\n",
       "      <td>23.76</td>\n",
       "      <td>NaN</td>\n",
       "      <td>32</td>\n",
       "    </tr>\n",
       "    <tr>\n",
       "      <th>4</th>\n",
       "      <td>CWT</td>\n",
       "      <td>Travel Agency</td>\n",
       "      <td>Online</td>\n",
       "      <td>Rental Vehicle Excess Insurance</td>\n",
       "      <td>No</td>\n",
       "      <td>79</td>\n",
       "      <td>ITALY</td>\n",
       "      <td>-19.8</td>\n",
       "      <td>11.88</td>\n",
       "      <td>NaN</td>\n",
       "      <td>41</td>\n",
       "    </tr>\n",
       "  </tbody>\n",
       "</table>\n",
       "</div>"
      ],
      "text/plain": [
       "  Agency    Agency_Type Distribution_Channel                     Product_Name  \\\n",
       "0    CBH  Travel Agency              Offline               Comprehensive Plan   \n",
       "1    CBH  Travel Agency              Offline               Comprehensive Plan   \n",
       "2    CWT  Travel Agency               Online  Rental Vehicle Excess Insurance   \n",
       "3    CWT  Travel Agency               Online  Rental Vehicle Excess Insurance   \n",
       "4    CWT  Travel Agency               Online  Rental Vehicle Excess Insurance   \n",
       "\n",
       "  Claim  Duration Destination  Net_Sales  Commision_1 Gender  Age  \n",
       "0    No       186    MALAYSIA      -29.0         9.57      F   81  \n",
       "1    No       186    MALAYSIA      -29.0         9.57      F   71  \n",
       "2    No        65   AUSTRALIA      -49.5        29.70    NaN   32  \n",
       "3    No        60   AUSTRALIA      -39.6        23.76    NaN   32  \n",
       "4    No        79       ITALY      -19.8        11.88    NaN   41  "
      ]
     },
     "execution_count": 85,
     "metadata": {},
     "output_type": "execute_result"
    }
   ],
   "source": [
    "df.head()         # Starting 5 rows"
   ]
  },
  {
   "cell_type": "code",
   "execution_count": 86,
   "id": "b34756f7",
   "metadata": {},
   "outputs": [
    {
     "data": {
      "text/html": [
       "<div>\n",
       "<style scoped>\n",
       "    .dataframe tbody tr th:only-of-type {\n",
       "        vertical-align: middle;\n",
       "    }\n",
       "\n",
       "    .dataframe tbody tr th {\n",
       "        vertical-align: top;\n",
       "    }\n",
       "\n",
       "    .dataframe thead th {\n",
       "        text-align: right;\n",
       "    }\n",
       "</style>\n",
       "<table border=\"1\" class=\"dataframe\">\n",
       "  <thead>\n",
       "    <tr style=\"text-align: right;\">\n",
       "      <th></th>\n",
       "      <th>Agency</th>\n",
       "      <th>Agency_Type</th>\n",
       "      <th>Distribution_Channel</th>\n",
       "      <th>Product_Name</th>\n",
       "      <th>Claim</th>\n",
       "      <th>Duration</th>\n",
       "      <th>Destination</th>\n",
       "      <th>Net_Sales</th>\n",
       "      <th>Commision_1</th>\n",
       "      <th>Gender</th>\n",
       "      <th>Age</th>\n",
       "    </tr>\n",
       "  </thead>\n",
       "  <tbody>\n",
       "    <tr>\n",
       "      <th>63321</th>\n",
       "      <td>JZI</td>\n",
       "      <td>Airlines</td>\n",
       "      <td>Online</td>\n",
       "      <td>Basic Plan</td>\n",
       "      <td>No</td>\n",
       "      <td>111</td>\n",
       "      <td>JAPAN</td>\n",
       "      <td>35.0</td>\n",
       "      <td>12.25</td>\n",
       "      <td>M</td>\n",
       "      <td>31</td>\n",
       "    </tr>\n",
       "    <tr>\n",
       "      <th>63322</th>\n",
       "      <td>JZI</td>\n",
       "      <td>Airlines</td>\n",
       "      <td>Online</td>\n",
       "      <td>Basic Plan</td>\n",
       "      <td>No</td>\n",
       "      <td>58</td>\n",
       "      <td>CHINA</td>\n",
       "      <td>40.0</td>\n",
       "      <td>14.00</td>\n",
       "      <td>F</td>\n",
       "      <td>40</td>\n",
       "    </tr>\n",
       "    <tr>\n",
       "      <th>63323</th>\n",
       "      <td>JZI</td>\n",
       "      <td>Airlines</td>\n",
       "      <td>Online</td>\n",
       "      <td>Basic Plan</td>\n",
       "      <td>No</td>\n",
       "      <td>2</td>\n",
       "      <td>MALAYSIA</td>\n",
       "      <td>18.0</td>\n",
       "      <td>6.30</td>\n",
       "      <td>M</td>\n",
       "      <td>57</td>\n",
       "    </tr>\n",
       "    <tr>\n",
       "      <th>63324</th>\n",
       "      <td>JZI</td>\n",
       "      <td>Airlines</td>\n",
       "      <td>Online</td>\n",
       "      <td>Basic Plan</td>\n",
       "      <td>No</td>\n",
       "      <td>3</td>\n",
       "      <td>VIET NAM</td>\n",
       "      <td>18.0</td>\n",
       "      <td>6.30</td>\n",
       "      <td>M</td>\n",
       "      <td>63</td>\n",
       "    </tr>\n",
       "    <tr>\n",
       "      <th>63325</th>\n",
       "      <td>JZI</td>\n",
       "      <td>Airlines</td>\n",
       "      <td>Online</td>\n",
       "      <td>Basic Plan</td>\n",
       "      <td>No</td>\n",
       "      <td>22</td>\n",
       "      <td>HONG KONG</td>\n",
       "      <td>26.0</td>\n",
       "      <td>9.10</td>\n",
       "      <td>F</td>\n",
       "      <td>35</td>\n",
       "    </tr>\n",
       "  </tbody>\n",
       "</table>\n",
       "</div>"
      ],
      "text/plain": [
       "      Agency Agency_Type Distribution_Channel Product_Name Claim  Duration  \\\n",
       "63321    JZI    Airlines               Online   Basic Plan    No       111   \n",
       "63322    JZI    Airlines               Online   Basic Plan    No        58   \n",
       "63323    JZI    Airlines               Online   Basic Plan    No         2   \n",
       "63324    JZI    Airlines               Online   Basic Plan    No         3   \n",
       "63325    JZI    Airlines               Online   Basic Plan    No        22   \n",
       "\n",
       "      Destination  Net_Sales  Commision_1 Gender  Age  \n",
       "63321       JAPAN       35.0        12.25      M   31  \n",
       "63322       CHINA       40.0        14.00      F   40  \n",
       "63323    MALAYSIA       18.0         6.30      M   57  \n",
       "63324    VIET NAM       18.0         6.30      M   63  \n",
       "63325   HONG KONG       26.0         9.10      F   35  "
      ]
     },
     "execution_count": 86,
     "metadata": {},
     "output_type": "execute_result"
    }
   ],
   "source": [
    "df.tail()         # Last 5 rows"
   ]
  },
  {
   "cell_type": "code",
   "execution_count": 87,
   "id": "80fd753f",
   "metadata": {},
   "outputs": [
    {
     "data": {
      "text/html": [
       "<div>\n",
       "<style scoped>\n",
       "    .dataframe tbody tr th:only-of-type {\n",
       "        vertical-align: middle;\n",
       "    }\n",
       "\n",
       "    .dataframe tbody tr th {\n",
       "        vertical-align: top;\n",
       "    }\n",
       "\n",
       "    .dataframe thead th {\n",
       "        text-align: right;\n",
       "    }\n",
       "</style>\n",
       "<table border=\"1\" class=\"dataframe\">\n",
       "  <thead>\n",
       "    <tr style=\"text-align: right;\">\n",
       "      <th></th>\n",
       "      <th>Duration</th>\n",
       "      <th>Net_Sales</th>\n",
       "      <th>Commision_1</th>\n",
       "      <th>Age</th>\n",
       "    </tr>\n",
       "  </thead>\n",
       "  <tbody>\n",
       "    <tr>\n",
       "      <th>count</th>\n",
       "      <td>63326.000000</td>\n",
       "      <td>63326.000000</td>\n",
       "      <td>63326.000000</td>\n",
       "      <td>63326.000000</td>\n",
       "    </tr>\n",
       "    <tr>\n",
       "      <th>mean</th>\n",
       "      <td>49.317074</td>\n",
       "      <td>40.702018</td>\n",
       "      <td>9.809992</td>\n",
       "      <td>39.968402</td>\n",
       "    </tr>\n",
       "    <tr>\n",
       "      <th>std</th>\n",
       "      <td>101.791566</td>\n",
       "      <td>48.845637</td>\n",
       "      <td>19.804388</td>\n",
       "      <td>14.013851</td>\n",
       "    </tr>\n",
       "    <tr>\n",
       "      <th>min</th>\n",
       "      <td>-2.000000</td>\n",
       "      <td>-389.000000</td>\n",
       "      <td>0.000000</td>\n",
       "      <td>0.000000</td>\n",
       "    </tr>\n",
       "    <tr>\n",
       "      <th>25%</th>\n",
       "      <td>9.000000</td>\n",
       "      <td>18.000000</td>\n",
       "      <td>0.000000</td>\n",
       "      <td>35.000000</td>\n",
       "    </tr>\n",
       "    <tr>\n",
       "      <th>50%</th>\n",
       "      <td>22.000000</td>\n",
       "      <td>26.530000</td>\n",
       "      <td>0.000000</td>\n",
       "      <td>36.000000</td>\n",
       "    </tr>\n",
       "    <tr>\n",
       "      <th>75%</th>\n",
       "      <td>53.000000</td>\n",
       "      <td>48.000000</td>\n",
       "      <td>11.550000</td>\n",
       "      <td>43.000000</td>\n",
       "    </tr>\n",
       "    <tr>\n",
       "      <th>max</th>\n",
       "      <td>4881.000000</td>\n",
       "      <td>810.000000</td>\n",
       "      <td>283.500000</td>\n",
       "      <td>118.000000</td>\n",
       "    </tr>\n",
       "  </tbody>\n",
       "</table>\n",
       "</div>"
      ],
      "text/plain": [
       "           Duration     Net_Sales   Commision_1           Age\n",
       "count  63326.000000  63326.000000  63326.000000  63326.000000\n",
       "mean      49.317074     40.702018      9.809992     39.968402\n",
       "std      101.791566     48.845637     19.804388     14.013851\n",
       "min       -2.000000   -389.000000      0.000000      0.000000\n",
       "25%        9.000000     18.000000      0.000000     35.000000\n",
       "50%       22.000000     26.530000      0.000000     36.000000\n",
       "75%       53.000000     48.000000     11.550000     43.000000\n",
       "max     4881.000000    810.000000    283.500000    118.000000"
      ]
     },
     "execution_count": 87,
     "metadata": {},
     "output_type": "execute_result"
    }
   ],
   "source": [
    "df.describe()          # Returns description of the data in the dataframe"
   ]
  },
  {
   "cell_type": "code",
   "execution_count": 88,
   "id": "d07e3eb6",
   "metadata": {},
   "outputs": [
    {
     "data": {
      "text/html": [
       "<div>\n",
       "<style scoped>\n",
       "    .dataframe tbody tr th:only-of-type {\n",
       "        vertical-align: middle;\n",
       "    }\n",
       "\n",
       "    .dataframe tbody tr th {\n",
       "        vertical-align: top;\n",
       "    }\n",
       "\n",
       "    .dataframe thead th {\n",
       "        text-align: right;\n",
       "    }\n",
       "</style>\n",
       "<table border=\"1\" class=\"dataframe\">\n",
       "  <thead>\n",
       "    <tr style=\"text-align: right;\">\n",
       "      <th></th>\n",
       "      <th>Agency</th>\n",
       "      <th>Agency_Type</th>\n",
       "      <th>Distribution_Channel</th>\n",
       "      <th>Product_Name</th>\n",
       "      <th>Claim</th>\n",
       "      <th>Duration</th>\n",
       "      <th>Destination</th>\n",
       "      <th>Net_Sales</th>\n",
       "      <th>Commision_1</th>\n",
       "      <th>Gender</th>\n",
       "      <th>Age</th>\n",
       "    </tr>\n",
       "  </thead>\n",
       "  <tbody>\n",
       "    <tr>\n",
       "      <th>count</th>\n",
       "      <td>63326</td>\n",
       "      <td>63326</td>\n",
       "      <td>63326</td>\n",
       "      <td>63326</td>\n",
       "      <td>63326</td>\n",
       "      <td>63326.000000</td>\n",
       "      <td>63326</td>\n",
       "      <td>63326.000000</td>\n",
       "      <td>63326.000000</td>\n",
       "      <td>18219</td>\n",
       "      <td>63326.000000</td>\n",
       "    </tr>\n",
       "    <tr>\n",
       "      <th>unique</th>\n",
       "      <td>16</td>\n",
       "      <td>2</td>\n",
       "      <td>2</td>\n",
       "      <td>26</td>\n",
       "      <td>2</td>\n",
       "      <td>NaN</td>\n",
       "      <td>149</td>\n",
       "      <td>NaN</td>\n",
       "      <td>NaN</td>\n",
       "      <td>2</td>\n",
       "      <td>NaN</td>\n",
       "    </tr>\n",
       "    <tr>\n",
       "      <th>top</th>\n",
       "      <td>EPX</td>\n",
       "      <td>Travel Agency</td>\n",
       "      <td>Online</td>\n",
       "      <td>Cancellation Plan</td>\n",
       "      <td>No</td>\n",
       "      <td>NaN</td>\n",
       "      <td>SINGAPORE</td>\n",
       "      <td>NaN</td>\n",
       "      <td>NaN</td>\n",
       "      <td>M</td>\n",
       "      <td>NaN</td>\n",
       "    </tr>\n",
       "    <tr>\n",
       "      <th>freq</th>\n",
       "      <td>35119</td>\n",
       "      <td>45869</td>\n",
       "      <td>62219</td>\n",
       "      <td>18630</td>\n",
       "      <td>62399</td>\n",
       "      <td>NaN</td>\n",
       "      <td>13255</td>\n",
       "      <td>NaN</td>\n",
       "      <td>NaN</td>\n",
       "      <td>9347</td>\n",
       "      <td>NaN</td>\n",
       "    </tr>\n",
       "    <tr>\n",
       "      <th>mean</th>\n",
       "      <td>NaN</td>\n",
       "      <td>NaN</td>\n",
       "      <td>NaN</td>\n",
       "      <td>NaN</td>\n",
       "      <td>NaN</td>\n",
       "      <td>49.317074</td>\n",
       "      <td>NaN</td>\n",
       "      <td>40.702018</td>\n",
       "      <td>9.809992</td>\n",
       "      <td>NaN</td>\n",
       "      <td>39.968402</td>\n",
       "    </tr>\n",
       "    <tr>\n",
       "      <th>std</th>\n",
       "      <td>NaN</td>\n",
       "      <td>NaN</td>\n",
       "      <td>NaN</td>\n",
       "      <td>NaN</td>\n",
       "      <td>NaN</td>\n",
       "      <td>101.791566</td>\n",
       "      <td>NaN</td>\n",
       "      <td>48.845637</td>\n",
       "      <td>19.804388</td>\n",
       "      <td>NaN</td>\n",
       "      <td>14.013851</td>\n",
       "    </tr>\n",
       "    <tr>\n",
       "      <th>min</th>\n",
       "      <td>NaN</td>\n",
       "      <td>NaN</td>\n",
       "      <td>NaN</td>\n",
       "      <td>NaN</td>\n",
       "      <td>NaN</td>\n",
       "      <td>-2.000000</td>\n",
       "      <td>NaN</td>\n",
       "      <td>-389.000000</td>\n",
       "      <td>0.000000</td>\n",
       "      <td>NaN</td>\n",
       "      <td>0.000000</td>\n",
       "    </tr>\n",
       "    <tr>\n",
       "      <th>25%</th>\n",
       "      <td>NaN</td>\n",
       "      <td>NaN</td>\n",
       "      <td>NaN</td>\n",
       "      <td>NaN</td>\n",
       "      <td>NaN</td>\n",
       "      <td>9.000000</td>\n",
       "      <td>NaN</td>\n",
       "      <td>18.000000</td>\n",
       "      <td>0.000000</td>\n",
       "      <td>NaN</td>\n",
       "      <td>35.000000</td>\n",
       "    </tr>\n",
       "    <tr>\n",
       "      <th>50%</th>\n",
       "      <td>NaN</td>\n",
       "      <td>NaN</td>\n",
       "      <td>NaN</td>\n",
       "      <td>NaN</td>\n",
       "      <td>NaN</td>\n",
       "      <td>22.000000</td>\n",
       "      <td>NaN</td>\n",
       "      <td>26.530000</td>\n",
       "      <td>0.000000</td>\n",
       "      <td>NaN</td>\n",
       "      <td>36.000000</td>\n",
       "    </tr>\n",
       "    <tr>\n",
       "      <th>75%</th>\n",
       "      <td>NaN</td>\n",
       "      <td>NaN</td>\n",
       "      <td>NaN</td>\n",
       "      <td>NaN</td>\n",
       "      <td>NaN</td>\n",
       "      <td>53.000000</td>\n",
       "      <td>NaN</td>\n",
       "      <td>48.000000</td>\n",
       "      <td>11.550000</td>\n",
       "      <td>NaN</td>\n",
       "      <td>43.000000</td>\n",
       "    </tr>\n",
       "    <tr>\n",
       "      <th>max</th>\n",
       "      <td>NaN</td>\n",
       "      <td>NaN</td>\n",
       "      <td>NaN</td>\n",
       "      <td>NaN</td>\n",
       "      <td>NaN</td>\n",
       "      <td>4881.000000</td>\n",
       "      <td>NaN</td>\n",
       "      <td>810.000000</td>\n",
       "      <td>283.500000</td>\n",
       "      <td>NaN</td>\n",
       "      <td>118.000000</td>\n",
       "    </tr>\n",
       "  </tbody>\n",
       "</table>\n",
       "</div>"
      ],
      "text/plain": [
       "       Agency    Agency_Type Distribution_Channel       Product_Name  Claim  \\\n",
       "count   63326          63326                63326              63326  63326   \n",
       "unique     16              2                    2                 26      2   \n",
       "top       EPX  Travel Agency               Online  Cancellation Plan     No   \n",
       "freq    35119          45869                62219              18630  62399   \n",
       "mean      NaN            NaN                  NaN                NaN    NaN   \n",
       "std       NaN            NaN                  NaN                NaN    NaN   \n",
       "min       NaN            NaN                  NaN                NaN    NaN   \n",
       "25%       NaN            NaN                  NaN                NaN    NaN   \n",
       "50%       NaN            NaN                  NaN                NaN    NaN   \n",
       "75%       NaN            NaN                  NaN                NaN    NaN   \n",
       "max       NaN            NaN                  NaN                NaN    NaN   \n",
       "\n",
       "            Duration Destination     Net_Sales   Commision_1 Gender  \\\n",
       "count   63326.000000       63326  63326.000000  63326.000000  18219   \n",
       "unique           NaN         149           NaN           NaN      2   \n",
       "top              NaN   SINGAPORE           NaN           NaN      M   \n",
       "freq             NaN       13255           NaN           NaN   9347   \n",
       "mean       49.317074         NaN     40.702018      9.809992    NaN   \n",
       "std       101.791566         NaN     48.845637     19.804388    NaN   \n",
       "min        -2.000000         NaN   -389.000000      0.000000    NaN   \n",
       "25%         9.000000         NaN     18.000000      0.000000    NaN   \n",
       "50%        22.000000         NaN     26.530000      0.000000    NaN   \n",
       "75%        53.000000         NaN     48.000000     11.550000    NaN   \n",
       "max      4881.000000         NaN    810.000000    283.500000    NaN   \n",
       "\n",
       "                 Age  \n",
       "count   63326.000000  \n",
       "unique           NaN  \n",
       "top              NaN  \n",
       "freq             NaN  \n",
       "mean       39.968402  \n",
       "std        14.013851  \n",
       "min         0.000000  \n",
       "25%        35.000000  \n",
       "50%        36.000000  \n",
       "75%        43.000000  \n",
       "max       118.000000  "
      ]
     },
     "execution_count": 88,
     "metadata": {},
     "output_type": "execute_result"
    }
   ],
   "source": [
    "df.describe(include=\"all\")"
   ]
  },
  {
   "cell_type": "markdown",
   "id": "c2cf97cb",
   "metadata": {},
   "source": [
    "## Converting categorical data into numerical "
   ]
  },
  {
   "cell_type": "code",
   "execution_count": 139,
   "id": "0b0afc83",
   "metadata": {},
   "outputs": [
    {
     "data": {
      "text/plain": [
       "Agency                   object\n",
       "Agency_Type              object\n",
       "Distribution_Channel     object\n",
       "Product_Name             object\n",
       "Claim                    object\n",
       "Duration                  int64\n",
       "Destination              object\n",
       "Net_Sales               float64\n",
       "Commision_1             float64\n",
       "Gender                   object\n",
       "Age                       int64\n",
       "dtype: object"
      ]
     },
     "execution_count": 139,
     "metadata": {},
     "output_type": "execute_result"
    }
   ],
   "source": [
    "df.dtypes"
   ]
  },
  {
   "cell_type": "code",
   "execution_count": 140,
   "id": "8f27b40f",
   "metadata": {},
   "outputs": [],
   "source": [
    "df.Destination=le.fit_transform(df.Destination)"
   ]
  },
  {
   "cell_type": "code",
   "execution_count": 141,
   "id": "c843545c",
   "metadata": {},
   "outputs": [
    {
     "data": {
      "text/plain": [
       "Agency                   object\n",
       "Agency_Type              object\n",
       "Distribution_Channel     object\n",
       "Product_Name             object\n",
       "Claim                    object\n",
       "Duration                  int64\n",
       "Destination               int32\n",
       "Net_Sales               float64\n",
       "Commision_1             float64\n",
       "Gender                   object\n",
       "Age                       int64\n",
       "dtype: object"
      ]
     },
     "execution_count": 141,
     "metadata": {},
     "output_type": "execute_result"
    }
   ],
   "source": [
    "df.dtypes"
   ]
  },
  {
   "cell_type": "markdown",
   "id": "70cb57cc",
   "metadata": {},
   "source": [
    "# Checking duplicate values"
   ]
  },
  {
   "cell_type": "code",
   "execution_count": 89,
   "id": "472ac105",
   "metadata": {},
   "outputs": [
    {
     "data": {
      "text/plain": [
       "False    55284\n",
       "True      8042\n",
       "dtype: int64"
      ]
     },
     "execution_count": 89,
     "metadata": {},
     "output_type": "execute_result"
    }
   ],
   "source": [
    "df.duplicated().value_counts()    # True means duplicate rows"
   ]
  },
  {
   "cell_type": "code",
   "execution_count": 90,
   "id": "c3dea3d1",
   "metadata": {},
   "outputs": [],
   "source": [
    "df = df.drop_duplicates()"
   ]
  },
  {
   "cell_type": "code",
   "execution_count": 91,
   "id": "a0dee9ea",
   "metadata": {},
   "outputs": [
    {
     "data": {
      "text/plain": [
       "(55284, 11)"
      ]
     },
     "execution_count": 91,
     "metadata": {},
     "output_type": "execute_result"
    }
   ],
   "source": [
    "df.shape"
   ]
  },
  {
   "cell_type": "markdown",
   "id": "2310bf70",
   "metadata": {},
   "source": [
    "# Checking the missing values"
   ]
  },
  {
   "cell_type": "code",
   "execution_count": 92,
   "id": "0e0faf47",
   "metadata": {},
   "outputs": [
    {
     "data": {
      "text/plain": [
       "Agency                      0\n",
       "Agency_Type                 0\n",
       "Distribution_Channel        0\n",
       "Product_Name                0\n",
       "Claim                       0\n",
       "Duration                    0\n",
       "Destination                 0\n",
       "Net_Sales                   0\n",
       "Commision_1                 0\n",
       "Gender                  38325\n",
       "Age                         0\n",
       "dtype: int64"
      ]
     },
     "execution_count": 92,
     "metadata": {},
     "output_type": "execute_result"
    }
   ],
   "source": [
    "df.isnull().sum()          #returns the number of missing values in dataset"
   ]
  },
  {
   "cell_type": "code",
   "execution_count": 93,
   "id": "f9209617",
   "metadata": {},
   "outputs": [
    {
     "data": {
      "text/plain": [
       "M    8558\n",
       "F    8401\n",
       "Name: Gender, dtype: int64"
      ]
     },
     "execution_count": 93,
     "metadata": {},
     "output_type": "execute_result"
    }
   ],
   "source": [
    "df.Gender.value_counts()"
   ]
  },
  {
   "cell_type": "markdown",
   "id": "7a39929d",
   "metadata": {},
   "source": [
    "# Data Visualization"
   ]
  },
  {
   "cell_type": "markdown",
   "id": "79496fc9",
   "metadata": {},
   "source": [
    "## Agency "
   ]
  },
  {
   "cell_type": "code",
   "execution_count": 98,
   "id": "a4b83f5c",
   "metadata": {},
   "outputs": [],
   "source": [
    "df = df.Agency.value_counts()       # Count the no of records"
   ]
  },
  {
   "cell_type": "code",
   "execution_count": 99,
   "id": "a8936b63",
   "metadata": {},
   "outputs": [
    {
     "data": {
      "text/plain": [
       "EPX    28956\n",
       "CWT     8082\n",
       "C2B     7782\n",
       "JZI     6043\n",
       "SSI      950\n",
       "LWC      684\n",
       "RAB      646\n",
       "TST      500\n",
       "JWT      440\n",
       "KML      335\n",
       "ART      325\n",
       "CCR      178\n",
       "CBH      101\n",
       "TTW       94\n",
       "CSR       86\n",
       "ADM       82\n",
       "Name: Agency, dtype: int64"
      ]
     },
     "execution_count": 99,
     "metadata": {},
     "output_type": "execute_result"
    }
   ],
   "source": [
    "df"
   ]
  },
  {
   "cell_type": "code",
   "execution_count": 173,
   "id": "f76be3eb",
   "metadata": {},
   "outputs": [
    {
     "data": {
      "text/plain": [
       "16"
      ]
     },
     "execution_count": 173,
     "metadata": {},
     "output_type": "execute_result"
    }
   ],
   "source": [
    "df.Agency.nunique()"
   ]
  },
  {
   "cell_type": "code",
   "execution_count": 101,
   "id": "ac6cedc7",
   "metadata": {},
   "outputs": [
    {
     "name": "stderr",
     "output_type": "stream",
     "text": [
      "C:\\EB\\lib\\site-packages\\seaborn\\_decorators.py:36: FutureWarning: Pass the following variables as keyword args: x, y. From version 0.12, the only valid positional argument will be `data`, and passing other arguments without an explicit keyword will result in an error or misinterpretation.\n",
      "  warnings.warn(\n"
     ]
    },
    {
     "data": {
      "image/png": "[encoded data removed]",
      "text/plain": [
       "<Figure size 864x432 with 1 Axes>"
      ]
     },
     "metadata": {
      "needs_background": "light"
     },
     "output_type": "display_data"
    }
   ],
   "source": [
    "plt.figure(figsize=(12,6))\n",
    "plt.xticks(rotation=60)\n",
    "plt.title('Agency')\n",
    "sns.barplot(df.index, df);"
   ]
  },
  {
   "cell_type": "markdown",
   "id": "d8bf6fe8",
   "metadata": {},
   "source": [
    "## Agency_Type "
   ]
  },
  {
   "cell_type": "code",
   "execution_count": 161,
   "id": "b9a2d817",
   "metadata": {},
   "outputs": [
    {
     "data": {
      "text/plain": [
       "array(['Travel Agency', 'Airlines'], dtype=object)"
      ]
     },
     "execution_count": 161,
     "metadata": {},
     "output_type": "execute_result"
    }
   ],
   "source": [
    "df.Agency_Type.unique()"
   ]
  },
  {
   "cell_type": "code",
   "execution_count": 162,
   "id": "60240bf1",
   "metadata": {},
   "outputs": [
    {
     "data": {
      "text/plain": [
       "Travel Agency    45869\n",
       "Airlines         17457\n",
       "Name: Agency_Type, dtype: int64"
      ]
     },
     "execution_count": 162,
     "metadata": {},
     "output_type": "execute_result"
    }
   ],
   "source": [
    "df[\"Agency_Type\"].value_counts()"
   ]
  },
  {
   "cell_type": "code",
   "execution_count": 164,
   "id": "da927444",
   "metadata": {},
   "outputs": [
    {
     "data": {
      "image/png": "[encoded data removed]",
      "text/plain": [
       "<Figure size 288x288 with 1 Axes>"
      ]
     },
     "metadata": {
      "needs_background": "light"
     },
     "output_type": "display_data"
    }
   ],
   "source": [
    "dfplot = df.groupby(by=['Agency_Type']).size().reset_index(name=\"counts\")\n",
    "dfplot = dfplot.nlargest(10,['counts'])\n",
    "plt.figure(figsize=(4, 4))\n",
    "plt.bar(dfplot['Agency_Type'],dfplot['counts'],color=['Red','Green'])\n",
    "plt.xlabel(\"Agency_Type\")\n",
    "plt.ylabel(\"People\")\n",
    "plt.title('Types of agency_type against number of people')\n",
    "plt.show()\n"
   ]
  },
  {
   "cell_type": "markdown",
   "id": "f01287d2",
   "metadata": {},
   "source": [
    "## Destination "
   ]
  },
  {
   "cell_type": "code",
   "execution_count": 122,
   "id": "debe877e",
   "metadata": {},
   "outputs": [],
   "source": [
    "X = df.Destination.value_counts().head(20)"
   ]
  },
  {
   "cell_type": "code",
   "execution_count": 123,
   "id": "43b18bd5",
   "metadata": {},
   "outputs": [
    {
     "data": {
      "text/plain": [
       "SINGAPORE                    13255\n",
       "MALAYSIA                      5930\n",
       "THAILAND                      5894\n",
       "CHINA                         4796\n",
       "AUSTRALIA                     3694\n",
       "INDONESIA                     3452\n",
       "UNITED STATES                 2530\n",
       "PHILIPPINES                   2490\n",
       "HONG KONG                     2411\n",
       "INDIA                         2251\n",
       "JAPAN                         2061\n",
       "VIET NAM                      1669\n",
       "KOREA, REPUBLIC OF            1479\n",
       "UNITED KINGDOM                1309\n",
       "TAIWAN, PROVINCE OF CHINA     1090\n",
       "MYANMAR                        806\n",
       "BRUNEI DARUSSALAM              780\n",
       "NEW ZEALAND                    537\n",
       "CANADA                         528\n",
       "CAMBODIA                       493\n",
       "Name: Destination, dtype: int64"
      ]
     },
     "execution_count": 123,
     "metadata": {},
     "output_type": "execute_result"
    }
   ],
   "source": [
    "X"
   ]
  },
  {
   "cell_type": "code",
   "execution_count": 133,
   "id": "8489bd01",
   "metadata": {},
   "outputs": [
    {
     "data": {
      "image/png": "[encoded data removed]",
      "text/plain": [
       "<Figure size 1584x864 with 1 Axes>"
      ]
     },
     "metadata": {},
     "output_type": "display_data"
    }
   ],
   "source": [
    "plt.figure(figsize=(22,12))\n",
    "plt.title('Destination')\n",
    "plt.pie(X, labels=X.index, autopct='%1.1f%%', startangle=180);"
   ]
  },
  {
   "cell_type": "markdown",
   "id": "2466c5fe",
   "metadata": {},
   "source": [
    "### Singapore is the destination with the highest number of insured persons. "
   ]
  },
  {
   "cell_type": "markdown",
   "id": "2915861b",
   "metadata": {},
   "source": [
    "## Gender"
   ]
  },
  {
   "cell_type": "code",
   "execution_count": 134,
   "id": "cb335d92",
   "metadata": {},
   "outputs": [
    {
     "data": {
      "text/plain": [
       "Text(0.5, 0, 'count')"
      ]
     },
     "execution_count": 134,
     "metadata": {},
     "output_type": "execute_result"
    },
    {
     "data": {
      "image/png": "[encoded data removed]",
      "text/plain": [
       "<Figure size 576x288 with 1 Axes>"
      ]
     },
     "metadata": {
      "needs_background": "light"
     },
     "output_type": "display_data"
    }
   ],
   "source": [
    "plt.figure(figsize=(8, 4))\n",
    "sns.barplot(y = df.Gender, x = df.index)\n",
    "plt.title(\"Gender\");\n",
    "plt.xlabel('count')"
   ]
  },
  {
   "cell_type": "markdown",
   "id": "179a3f98",
   "metadata": {},
   "source": [
    "#### From the plot we can see that there are more female insured persons than the male. "
   ]
  },
  {
   "cell_type": "markdown",
   "id": "513adb7b",
   "metadata": {},
   "source": [
    "## Claim "
   ]
  },
  {
   "cell_type": "code",
   "execution_count": 170,
   "id": "d71ec564",
   "metadata": {},
   "outputs": [
    {
     "data": {
      "text/plain": [
       "No     62399\n",
       "Yes      927\n",
       "Name: Claim, dtype: int64"
      ]
     },
     "execution_count": 170,
     "metadata": {},
     "output_type": "execute_result"
    }
   ],
   "source": [
    "df.Claim.value_counts() "
   ]
  },
  {
   "cell_type": "code",
   "execution_count": 171,
   "id": "fdc39837",
   "metadata": {},
   "outputs": [
    {
     "data": {
      "image/png": "[encoded data removed]",
      "text/plain": [
       "<Figure size 432x288 with 1 Axes>"
      ]
     },
     "metadata": {},
     "output_type": "display_data"
    }
   ],
   "source": [
    "D = df.groupby(by=[\"Claim\"]).size().reset_index(name=\"counts\")\n",
    "D = D.nlargest(2,['counts'])\n",
    "plt.pie(x=D['counts'],labels=D['Claim'],autopct='%1.1f%%')\n",
    "plt.title('How many people have claim the insurance')\n",
    "plt.show()"
   ]
  },
  {
   "cell_type": "markdown",
   "id": "57e07500",
   "metadata": {},
   "source": [
    "#### The plot shows only 1.5%people have claim their insurance and 98.5% people have not claimed yet. "
   ]
  },
  {
   "cell_type": "code",
   "execution_count": 143,
   "id": "4b138bec",
   "metadata": {},
   "outputs": [
    {
     "name": "stderr",
     "output_type": "stream",
     "text": [
      "C:\\EB\\lib\\site-packages\\seaborn\\_decorators.py:36: FutureWarning: Pass the following variables as keyword args: x, y. From version 0.12, the only valid positional argument will be `data`, and passing other arguments without an explicit keyword will result in an error or misinterpretation.\n",
      "  warnings.warn(\n"
     ]
    },
    {
     "data": {
      "text/plain": [
       "<AxesSubplot:xlabel='Agency', ylabel='Age'>"
      ]
     },
     "execution_count": 143,
     "metadata": {},
     "output_type": "execute_result"
    },
    {
     "data": {
      "image/png": "[encoded data removed]",
      "text/plain": [
       "<Figure size 432x288 with 1 Axes>"
      ]
     },
     "metadata": {
      "needs_background": "light"
     },
     "output_type": "display_data"
    }
   ],
   "source": [
    "sns.scatterplot(df.Agency, df.Age, hue = df.Claim, s =60)"
   ]
  },
  {
   "cell_type": "markdown",
   "id": "6a7860bb",
   "metadata": {},
   "source": [
    "#### The plot shows there is little claim already done and it is within the age of 20 to 60. Others have not been claimed yet. "
   ]
  },
  {
   "cell_type": "markdown",
   "id": "6141ebf8",
   "metadata": {},
   "source": [
    "## Agency Rating of the insured persons in percentage "
   ]
  },
  {
   "cell_type": "code",
   "execution_count": 144,
   "id": "87fdcda4",
   "metadata": {},
   "outputs": [
    {
     "name": "stderr",
     "output_type": "stream",
     "text": [
      "C:\\EB\\lib\\site-packages\\seaborn\\_decorators.py:36: FutureWarning: Pass the following variables as keyword args: x, y. From version 0.12, the only valid positional argument will be `data`, and passing other arguments without an explicit keyword will result in an error or misinterpretation.\n",
      "  warnings.warn(\n"
     ]
    },
    {
     "data": {
      "image/png": "[encoded data removed]",
      "text/plain": [
       "<Figure size 432x288 with 1 Axes>"
      ]
     },
     "metadata": {
      "needs_background": "light"
     },
     "output_type": "display_data"
    }
   ],
   "source": [
    "Agency_pct = df.Agency.value_counts() * 100 / df.Agency.count()\n",
    "  \n",
    "sns.barplot(Agency_pct, Agency_pct.index)\n",
    "\n",
    "plt.title('Agency Rating')\n",
    "plt.ylabel(None);\n",
    "plt.xlabel('Percentage');"
   ]
  },
  {
   "cell_type": "markdown",
   "id": "174ff70c",
   "metadata": {},
   "source": [
    "## Get the details of an insured person from the data frame "
   ]
  },
  {
   "cell_type": "code",
   "execution_count": 148,
   "id": "0efeb8fb",
   "metadata": {},
   "outputs": [
    {
     "data": {
      "text/plain": [
       "Agency                                EPX\n",
       "Agency_Type                 Travel Agency\n",
       "Distribution_Channel               Online\n",
       "Product_Name            Cancellation Plan\n",
       "Claim                                  No\n",
       "Duration                               33\n",
       "Destination                            26\n",
       "Net_Sales                            32.0\n",
       "Commision_1                           0.0\n",
       "Gender                                NaN\n",
       "Age                                    36\n",
       "Name: 540, dtype: object"
      ]
     },
     "execution_count": 148,
     "metadata": {},
     "output_type": "execute_result"
    }
   ],
   "source": [
    "df.loc[540]"
   ]
  },
  {
   "cell_type": "markdown",
   "id": "c01f2077",
   "metadata": {},
   "source": [
    "#### We have been able to get the details of the insured person with serial number 540 from the data frame. "
   ]
  },
  {
   "cell_type": "markdown",
   "id": "bbbd51be",
   "metadata": {},
   "source": [
    "##  How many of the insured persons are still young "
   ]
  },
  {
   "cell_type": "code",
   "execution_count": 152,
   "id": "ab841c24",
   "metadata": {},
   "outputs": [
    {
     "name": "stderr",
     "output_type": "stream",
     "text": [
      "C:\\EB\\lib\\site-packages\\seaborn\\_decorators.py:36: FutureWarning: Pass the following variables as keyword args: x, y. From version 0.12, the only valid positional argument will be `data`, and passing other arguments without an explicit keyword will result in an error or misinterpretation.\n",
      "  warnings.warn(\n"
     ]
    },
    {
     "data": {
      "image/png": "[encoded data removed]",
      "text/plain": [
       "<Figure size 432x288 with 1 Axes>"
      ]
     },
     "metadata": {
      "needs_background": "light"
     },
     "output_type": "display_data"
    }
   ],
   "source": [
    "sns.scatterplot('Age', 'Duration', hue='Gender', data = df)\n",
    "plt.xlabel(\"Age\")\n",
    "plt.ylabel(\"Length of time people insured for\");"
   ]
  },
  {
   "cell_type": "markdown",
   "id": "11419f25",
   "metadata": {},
   "source": [
    "#### We can see points on the graph showing the number of young people who are insured. Also, we can see that old people are insured as well. "
   ]
  },
  {
   "cell_type": "markdown",
   "id": "a1ae7f52",
   "metadata": {},
   "source": [
    "## Total duration on the travel insurance done by the people"
   ]
  },
  {
   "cell_type": "code",
   "execution_count": 159,
   "id": "433526e0",
   "metadata": {},
   "outputs": [],
   "source": [
    "Duration_time = df.Duration.sum()"
   ]
  },
  {
   "cell_type": "code",
   "execution_count": 160,
   "id": "61749a28",
   "metadata": {},
   "outputs": [
    {
     "name": "stdout",
     "output_type": "stream",
     "text": [
      "The overall duration for all the insured persons is 312305300.00 %.\n"
     ]
    }
   ],
   "source": [
    "print(\"The overall duration for all the insured persons is {:.2f} %.\".format(Duration_time * 100))"
   ]
  },
  {
   "cell_type": "markdown",
   "id": "129f6da4",
   "metadata": {},
   "source": [
    "## Correalation Map "
   ]
  },
  {
   "cell_type": "code",
   "execution_count": 172,
   "id": "881c01a2",
   "metadata": {},
   "outputs": [
    {
     "data": {
      "text/plain": [
       "<AxesSubplot:>"
      ]
     },
     "execution_count": 172,
     "metadata": {},
     "output_type": "execute_result"
    },
    {
     "data": {
      "image/png": "[encoded data removed]",
      "text/plain": [
       "<Figure size 720x504 with 2 Axes>"
      ]
     },
     "metadata": {
      "needs_background": "light"
     },
     "output_type": "display_data"
    }
   ],
   "source": [
    "fig, ax = plt.subplots(figsize = (10,7))\n",
    "sns.heatmap(df.corr(), ax = ax, annot = True)"
   ]
  },
  {
   "cell_type": "markdown",
   "id": "0ef94163",
   "metadata": {},
   "source": [
    "# Inferences and Conclusion\n",
    "\n",
    ">- Based on the Agency we can see the different agencies offering travel insurance to people and the edge of one over the other.\n",
    ">- The Destination is not as diverse as it can be, their some destinations mostly preferred by the insured persons as it clearly given in the analysis.\n",
    ">- Most insured persons are within the age 20-80, although a little number of people insured are 120 years of Age.\n",
    ">- The duration of the insurance varies from one person to another.\n",
    ">- Most insurance claim have not been done yet compared to the ones already claimed.\n",
    "    You can enrol for travel insurance at any age, and majority of the insured persons have not claimed the insurance fund."
   ]
  },
  {
   "cell_type": "code",
   "execution_count": null,
   "id": "975bc4c6",
   "metadata": {},
   "outputs": [],
   "source": []
  },
  {
   "cell_type": "code",
   "execution_count": null,
   "id": "8f02d6b7",
   "metadata": {},
   "outputs": [],
   "source": []
  }
 ],
 "metadata": {
  "kernelspec": {
   "display_name": "Python 3 (ipykernel)",
   "language": "python",
   "name": "python3"
  },
  "language_info": {
   "codemirror_mode": {
    "name": "ipython",
    "version": 3
   },
   "file_extension": ".py",
   "mimetype": "text/x-python",
   "name": "python",
   "nbconvert_exporter": "python",
   "pygments_lexer": "ipython3",
   "version": "3.9.12"
  }
 },
 "nbformat": 4,
 "nbformat_minor": 5
}
